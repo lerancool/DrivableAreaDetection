{
 "cells": [
  {
   "cell_type": "code",
   "execution_count": 7,
   "metadata": {},
   "outputs": [],
   "source": [
    "\"\"\"\n",
    "This script will shrink the JSON file to correspond to the images in the selected folder.\n",
    "It will remove JSON data for the files which are not in the folder.\n",
    "\"\"\"\n",
    "\n",
    "import os\n",
    "import sys\n",
    "import json\n",
    "import datetime\n",
    "import numpy as np\n",
    "\n",
    "# Directories to be used\n",
    "ROOT_DIR = os.path.abspath(\"../../\")\n",
    "json_dir=os.path.abspath(\"../../datasets/bdd/\")\n",
    "\n",
    "# ROOT_DIR = \"/Users/duke/Desktop/00-mask-rcnn-10k-data/bdd100k_labels_images_val.json\"\n",
    "# json_dir = \"/Users/duke/Desktop/00-mask-rcnn-10k-data/\"\n",
    "\n",
    "#Master JSON file\n",
    "master_json=\"bdd100k_labels_images_val.json\"\n",
    "dataset_dir=os.path.abspath(\"../../datasets/bdd/val\")\n",
    "# dataset_dir=os.path.abspath(\"/Users/duke/Desktop/00-mask-rcnn-10k-data/val\")\n",
    "output_json=\"via_region_data.json\"\n"
   ]
  },
  {
   "cell_type": "code",
   "execution_count": 8,
   "metadata": {},
   "outputs": [
    {
     "name": "stdout",
     "output_type": "stream",
     "text": [
      "12\n"
     ]
    }
   ],
   "source": [
    "#List all files in a directory with extension .jpg\n",
    "images=[]\n",
    "for file in os.listdir(dataset_dir):\n",
    "    if file.endswith(\".jpg\"):\n",
    "        images.append(file)\n",
    "print (len(images))\n",
    "# print(images)"
   ]
  },
  {
   "cell_type": "code",
   "execution_count": null,
   "metadata": {},
   "outputs": [],
   "source": []
  },
  {
   "cell_type": "code",
   "execution_count": 9,
   "metadata": {
    "scrolled": true
   },
   "outputs": [
    {
     "name": "stdout",
     "output_type": "stream",
     "text": [
      "11\n",
      "10\n",
      "9\n",
      "8\n",
      "7\n",
      "6\n",
      "5\n",
      "4\n",
      "3\n",
      "2\n",
      "1\n",
      "0\n"
     ]
    }
   ],
   "source": [
    "############################################################\n",
    "#  Load the JSON file \n",
    "############################################################\n",
    "\n",
    "        # Load annotations\n",
    "        # Label annotations for BDD are saved in the following format:\n",
    "        # { 'name': '0000f77c-6257be58.jpg',\n",
    "        #   \"attributes\": {},\n",
    "        #   \"timestamp\": ,\n",
    "        #   \"labels\":[\n",
    "        #    ] \n",
    "        # }\n",
    "        # We check the file name in JSON and check if that file is present in the folder or not\n",
    "\n",
    "annotations = json.load(open(os.path.join(json_dir,master_json )))\n",
    "# annotations is a list of dictionary corresponding to each image\n",
    "# Read name of the file from JSON\n",
    "shrink=[]\n",
    "counter=len(images)\n",
    "for image in images:\n",
    "    for a in annotations:\n",
    "        #print ('a')\n",
    "        #print (a)\n",
    "        # Get the file name \n",
    "        if image==a['name']: \n",
    "            #print (a['name'])\n",
    "            shrink.append(a)\n",
    "            break\n",
    "    counter=counter-1\n",
    "    print (counter)\n",
    "#print (shrink)\n",
    "with open(os.path.join(dataset_dir,output_json), 'w') as outfile:  \n",
    "    json.dump(shrink, outfile)"
   ]
  },
  {
   "cell_type": "code",
   "execution_count": null,
   "metadata": {},
   "outputs": [],
   "source": []
  },
  {
   "cell_type": "code",
   "execution_count": null,
   "metadata": {},
   "outputs": [],
   "source": []
  }
 ],
 "metadata": {
  "kernelspec": {
   "display_name": "Python 3",
   "language": "python",
   "name": "python3"
  },
  "language_info": {
   "codemirror_mode": {
    "name": "ipython",
    "version": 3
   },
   "file_extension": ".py",
   "mimetype": "text/x-python",
   "name": "python",
   "nbconvert_exporter": "python",
   "pygments_lexer": "ipython3",
   "version": "3.7.3"
  }
 },
 "nbformat": 4,
 "nbformat_minor": 2
}
