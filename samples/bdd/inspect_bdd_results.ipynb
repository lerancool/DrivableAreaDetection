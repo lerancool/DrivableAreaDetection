{
 "cells": [
  {
   "cell_type": "markdown",
   "metadata": {},
   "source": [
    "# Mask R-CNN - Inspect BDD Trained Model\n",
    "\n",
    "Code to analyze results on drivable area detection results."
   ]
  },
  {
   "cell_type": "code",
   "execution_count": 10,
   "metadata": {},
   "outputs": [],
   "source": [
    "import os\n",
    "import sys\n",
    "import random\n",
    "import math\n",
    "import re\n",
    "import time\n",
    "import numpy as np\n",
    "import tensorflow as tf\n",
    "import matplotlib\n",
    "import matplotlib.pyplot as plt\n",
    "import matplotlib.patches as patches\n",
    "\n",
    "# Root directory of the project\n",
    "ROOT_DIR = os.path.abspath(\"../../\")\n",
    "\n",
    "# Import Mask RCNN\n",
    "sys.path.append(ROOT_DIR)  # To find local version of the library\n",
    "from mrcnn import utils\n",
    "from mrcnn import visualize\n",
    "from mrcnn.visualize import display_images\n",
    "import mrcnn.model as modellib\n",
    "from mrcnn.model import log\n",
    "\n",
    "from samples.bdd import bdd_train\n",
    "\n",
    "%matplotlib inline \n",
    "\n",
    "# Directory to save logs and trained model\n",
    "MODEL_DIR = os.path.join(ROOT_DIR, \"logs\")\n"
   ]
  },
  {
   "cell_type": "markdown",
   "metadata": {},
   "source": [
    "## Configurations"
   ]
  },
  {
   "cell_type": "code",
   "execution_count": 11,
   "metadata": {},
   "outputs": [],
   "source": [
    "config = bdd_train.BddConfig()\n",
    "BDD_DIR = os.path.join(ROOT_DIR, \"datasets/bdd\")"
   ]
  },
  {
   "cell_type": "code",
   "execution_count": 12,
   "metadata": {},
   "outputs": [
    {
     "name": "stdout",
     "output_type": "stream",
     "text": [
      "\n",
      "Configurations:\n",
      "BACKBONE                       resnet101\n",
      "BACKBONE_STRIDES               [4, 8, 16, 32, 64]\n",
      "BATCH_SIZE                     1\n",
      "BBOX_STD_DEV                   [0.1 0.1 0.2 0.2]\n",
      "COMPUTE_BACKBONE_SHAPE         None\n",
      "DETECTION_MAX_INSTANCES        100\n",
      "DETECTION_MIN_CONFIDENCE       0.9\n",
      "DETECTION_NMS_THRESHOLD        0.3\n",
      "FPN_CLASSIF_FC_LAYERS_SIZE     1024\n",
      "GPU_COUNT                      1\n",
      "GRADIENT_CLIP_NORM             5.0\n",
      "IMAGES_PER_GPU                 1\n",
      "IMAGE_CHANNEL_COUNT            3\n",
      "IMAGE_MAX_DIM                  256\n",
      "IMAGE_META_SIZE                14\n",
      "IMAGE_MIN_DIM                  200\n",
      "IMAGE_MIN_SCALE                0\n",
      "IMAGE_RESIZE_MODE              square\n",
      "IMAGE_SHAPE                    [256 256   3]\n",
      "LEARNING_MOMENTUM              0.9\n",
      "LEARNING_RATE                  0.001\n",
      "LOSS_WEIGHTS                   {'rpn_class_loss': 1.0, 'rpn_bbox_loss': 1.0, 'mrcnn_class_loss': 1.0, 'mrcnn_bbox_loss': 1.0, 'mrcnn_mask_loss': 1.0}\n",
      "MASK_POOL_SIZE                 14\n",
      "MASK_SHAPE                     [28, 28]\n",
      "MAX_GT_INSTANCES               100\n",
      "MEAN_PIXEL                     [123.7 116.8 103.9]\n",
      "MINI_MASK_SHAPE                (56, 56)\n",
      "NAME                           bdd\n",
      "NUM_CLASSES                    2\n",
      "POOL_SIZE                      7\n",
      "POST_NMS_ROIS_INFERENCE        1000\n",
      "POST_NMS_ROIS_TRAINING         2000\n",
      "PRE_NMS_LIMIT                  6000\n",
      "ROI_POSITIVE_RATIO             0.33\n",
      "RPN_ANCHOR_RATIOS              [0.5, 1, 2]\n",
      "RPN_ANCHOR_SCALES              (32, 64, 128, 256, 512)\n",
      "RPN_ANCHOR_STRIDE              1\n",
      "RPN_BBOX_STD_DEV               [0.1 0.1 0.2 0.2]\n",
      "RPN_NMS_THRESHOLD              0.7\n",
      "RPN_TRAIN_ANCHORS_PER_IMAGE    256\n",
      "STEPS_PER_EPOCH                2\n",
      "TOP_DOWN_PYRAMID_SIZE          256\n",
      "TRAIN_BN                       False\n",
      "TRAIN_ROIS_PER_IMAGE           200\n",
      "USE_MINI_MASK                  True\n",
      "USE_RPN_ROIS                   True\n",
      "VALIDATION_STEPS               50\n",
      "WEIGHT_DECAY                   0.0001\n",
      "\n",
      "\n"
     ]
    }
   ],
   "source": [
    "# Override the training configurations with a few\n",
    "# changes for inferencing.\n",
    "class InferenceConfig(config.__class__):\n",
    "    # Run detection on one image at a time\n",
    "    GPU_COUNT = 1\n",
    "    IMAGES_PER_GPU = 1\n",
    "\n",
    "config = InferenceConfig()\n",
    "config.display()"
   ]
  },
  {
   "cell_type": "markdown",
   "metadata": {},
   "source": [
    "## Notebook Preferences"
   ]
  },
  {
   "cell_type": "code",
   "execution_count": 13,
   "metadata": {},
   "outputs": [],
   "source": [
    "# Device to load the neural network on.\n",
    "# Useful if you're training a model on the same \n",
    "# machine, in which case use CPU and leave the\n",
    "# GPU for training.\n",
    "DEVICE = \"/cpu:0\"  # /cpu:0 or /gpu:0\n",
    "\n",
    "# Inspect the model in training or inference modes\n",
    "# values: 'inference' or 'training'\n",
    "# TODO: code for 'training' test mode not ready yet\n",
    "TEST_MODE = \"inference\""
   ]
  },
  {
   "cell_type": "code",
   "execution_count": 14,
   "metadata": {},
   "outputs": [],
   "source": [
    "def get_ax(rows=1, cols=1, size=16):\n",
    "    \"\"\"Return a Matplotlib Axes array to be used in\n",
    "    all visualizations in the notebook. Provide a\n",
    "    central point to control graph sizes.\n",
    "    \n",
    "    Adjust the size attribute to control how big to render images\n",
    "    \"\"\"\n",
    "    _, ax = plt.subplots(rows, cols, figsize=(size*cols, size*rows))\n",
    "    return ax"
   ]
  },
  {
   "cell_type": "markdown",
   "metadata": {},
   "source": [
    "## Load Validation Dataset"
   ]
  },
  {
   "cell_type": "code",
   "execution_count": 15,
   "metadata": {
    "scrolled": true
   },
   "outputs": [
    {
     "name": "stdout",
     "output_type": "stream",
     "text": [
      "Images: 11\n",
      "Classes: ['BG', 'drivableArea']\n"
     ]
    }
   ],
   "source": [
    "# Load validation dataset\n",
    "dataset = bdd_train.BddDataset()\n",
    "dataset.load_bdd(BDD_DIR, 'val')\n",
    "\n",
    "# Must call before using the dataset\n",
    "dataset.prepare()\n",
    "\n",
    "print(\"Images: {}\\nClasses: {}\".format(len(dataset.image_ids), dataset.class_names))"
   ]
  },
  {
   "cell_type": "code",
   "execution_count": null,
   "metadata": {},
   "outputs": [],
   "source": []
  },
  {
   "cell_type": "markdown",
   "metadata": {},
   "source": [
    "## Load Model"
   ]
  },
  {
   "cell_type": "code",
   "execution_count": 16,
   "metadata": {},
   "outputs": [
    {
     "name": "stdout",
     "output_type": "stream",
     "text": [
      "/Users/duke/Desktop/AIE自动驾驶组-可行驶区域检测-项目答辩/Model_DrivableDetection/logs\n"
     ]
    }
   ],
   "source": [
    "print(MODEL_DIR)"
   ]
  },
  {
   "cell_type": "code",
   "execution_count": 17,
   "metadata": {
    "scrolled": true
   },
   "outputs": [],
   "source": [
    "# Create model in inference mode\n",
    "with tf.device(DEVICE):\n",
    "    model = modellib.MaskRCNN(mode=\"inference\", model_dir=MODEL_DIR,\n",
    "                              config=config)"
   ]
  },
  {
   "cell_type": "code",
   "execution_count": 18,
   "metadata": {},
   "outputs": [
    {
     "name": "stdout",
     "output_type": "stream",
     "text": [
      "Loading weights  ../../logs/mask_rcnn_bdd_0010.h5\n"
     ]
    }
   ],
   "source": [
    "# Set path to bdd weights file\n",
    "weights_path = \"../../logs/mask_rcnn_bdd_0010.h5\"\n",
    "\n",
    "# Or, load the last model you trained\n",
    "#weights_path = model.find_last()\n",
    "\n",
    "# Load weights\n",
    "print(\"Loading weights \", weights_path)\n",
    "model.load_weights(weights_path, by_name=True)"
   ]
  },
  {
   "cell_type": "code",
   "execution_count": 19,
   "metadata": {},
   "outputs": [
    {
     "name": "stdout",
     "output_type": "stream",
     "text": [
      "/Users/duke/Desktop/AIE自动驾驶组-可行驶区域检测-项目答辩/Model_DrivableDetection/logs\n",
      "resnet101\n"
     ]
    }
   ],
   "source": [
    "print(MODEL_DIR)\n",
    "print(config.BACKBONE)"
   ]
  },
  {
   "cell_type": "markdown",
   "metadata": {},
   "source": [
    "## Run Detection"
   ]
  },
  {
   "cell_type": "code",
   "execution_count": 20,
   "metadata": {},
   "outputs": [
    {
     "name": "stdout",
     "output_type": "stream",
     "text": [
      "0\n",
      "1\n",
      "2\n",
      "3\n",
      "4\n",
      "5\n",
      "6\n",
      "7\n",
      "8\n",
      "9\n",
      "10\n",
      "\n",
      "\n"
     ]
    },
    {
     "data": {
      "text/plain": [
       "[{'id': 'b1ca2e5d-84cf9134.jpg',\n",
       "  'source': 'bdd',\n",
       "  'path': '/Users/duke/Desktop/AIE自动驾驶组-可行驶区域检测-项目答辩/Model_DrivableDetection/datasets/bdd/val/b1ca2e5d-84cf9134.jpg',\n",
       "  'width': 1280,\n",
       "  'height': 720,\n",
       "  'polygons': [[{'vertices': [[646.480005, 399.241441],\n",
       "      [855.31399, 386.957089],\n",
       "      [978.15751, 431.487865],\n",
       "      [1220.773463, 452.985481],\n",
       "      [1280.6437, 448.378849],\n",
       "      [1280.6437, 494.44517],\n",
       "      [1229.986727, 466.805377],\n",
       "      [881.418238, 469.876465],\n",
       "      [655.693269, 463.734289],\n",
       "      [646.480005, 399.241441]],\n",
       "     'types': 'LLCCCLCCCL',\n",
       "     'closed': True}]]},\n",
       " {'id': 'b1c81faa-c80764c5.jpg',\n",
       "  'source': 'bdd',\n",
       "  'path': '/Users/duke/Desktop/AIE自动驾驶组-可行驶区域检测-项目答辩/Model_DrivableDetection/datasets/bdd/val/b1c81faa-c80764c5.jpg',\n",
       "  'width': 1280,\n",
       "  'height': 720,\n",
       "  'polygons': [[{'vertices': [[595.178677, 301.956478],\n",
       "      [401.776803, 323.168297],\n",
       "      [198.392894, 425.484129],\n",
       "      [0, 514.074666],\n",
       "      [0, 573.96686],\n",
       "      [188.410859, 524.056698],\n",
       "      [467.907766, 546.516271],\n",
       "      [601.417448, 566.480335],\n",
       "      [577.710122, 462.91675],\n",
       "      [499.101618, 326.911559],\n",
       "      [595.178677, 301.956478]],\n",
       "     'types': 'LCCCLCCCCCC',\n",
       "     'closed': True}],\n",
       "   [{'vertices': [[590.187662, 313.186265],\n",
       "      [638.850069, 311.938511],\n",
       "      [706.366221, 365.459473],\n",
       "      [1068.754606, 488.302994],\n",
       "      [1280.195648, 575.214614],\n",
       "      [1280.195648, 704.981034],\n",
       "      [1146.685964, 630.115792],\n",
       "      [843.029638, 543.582578],\n",
       "      [632.6113, 565.232581],\n",
       "      [587.692154, 430.475145],\n",
       "      [542.77301, 326.911559],\n",
       "      [590.187662, 313.186265]],\n",
       "     'types': 'LLCCCLCCCCCC',\n",
       "     'closed': True}],\n",
       "   [{'vertices': [[397.721876, 340.890769],\n",
       "      [338.141345, 329.407067],\n",
       "      [0, 396.785785],\n",
       "      [0, 506.588141],\n",
       "      [137.252946, 440.457178],\n",
       "      [263.276103, 385.555999],\n",
       "      [397.721876, 340.890769]],\n",
       "     'types': 'LLLLCCC',\n",
       "     'closed': True}]]},\n",
       " {'id': 'b1c66a42-6f7d68ca.jpg',\n",
       "  'source': 'bdd',\n",
       "  'path': '/Users/duke/Desktop/AIE自动驾驶组-可行驶区域检测-项目答辩/Model_DrivableDetection/datasets/bdd/val/b1c66a42-6f7d68ca.jpg',\n",
       "  'width': 1280,\n",
       "  'height': 720,\n",
       "  'polygons': [[{'vertices': [[241.143645, 697.923453],\n",
       "      [541.525255, 380.564983],\n",
       "      [583.948892, 378.069475],\n",
       "      [960.034755, 676.955796],\n",
       "      [715.911316, 664.974278],\n",
       "      [491.257843, 664.974278],\n",
       "      [241.143645, 697.923453]],\n",
       "     'types': 'LLLLCCC',\n",
       "     'closed': True}],\n",
       "   [{'vertices': [[986.993172, 682.946555],\n",
       "      [620.059168, 396.887801],\n",
       "      [681.46445, 392.394731],\n",
       "      [1280.52479, 567.624439],\n",
       "      [1280.52479, 697.923453],\n",
       "      [986.993172, 682.946555]],\n",
       "     'types': 'LLLLLL',\n",
       "     'closed': True}]]},\n",
       " {'id': 'b1cd1e94-549d0bfe.jpg',\n",
       "  'source': 'bdd',\n",
       "  'path': '/Users/duke/Desktop/AIE自动驾驶组-可行驶区域检测-项目答辩/Model_DrivableDetection/datasets/bdd/val/b1cd1e94-549d0bfe.jpg',\n",
       "  'width': 1280,\n",
       "  'height': 720,\n",
       "  'polygons': [[{'vertices': [[571.238348, 465.269833],\n",
       "      [546.669645, 483.696362],\n",
       "      [190.423435, 463.73429],\n",
       "      [0, 469.876465],\n",
       "      [0, 706.350242],\n",
       "      [311.731412, 651.070658],\n",
       "      [867.598342, 704.814699],\n",
       "      [910.593574, 720.170138],\n",
       "      [1280.6437, 720.170138],\n",
       "      [1280.6437, 609.61097],\n",
       "      [942.839998, 520.549419],\n",
       "      [804.641037, 505.193978],\n",
       "      [772.394613, 476.018641],\n",
       "      [571.238348, 465.269833]],\n",
       "     'types': 'LLLLLCCCLLLLLL',\n",
       "     'closed': True}]]},\n",
       " {'id': 'b1c9c847-3bda4659.jpg',\n",
       "  'source': 'bdd',\n",
       "  'path': '/Users/duke/Desktop/AIE自动驾驶组-可行驶区域检测-项目答辩/Model_DrivableDetection/datasets/bdd/val/b1c9c847-3bda4659.jpg',\n",
       "  'width': 1280,\n",
       "  'height': 720,\n",
       "  'polygons': [[{'vertices': [[550.259533, 413.006587],\n",
       "      [327.086852, 575.829002],\n",
       "      [692.503494, 558.993812],\n",
       "      [1078.059493, 598.921941],\n",
       "      [1280.195648, 655.070871],\n",
       "      [1280.195648, 546.516271],\n",
       "      [1217.702375, 529.762682],\n",
       "      [872.204974, 517.47833],\n",
       "      [685.016969, 354.362147],\n",
       "      [640.097823, 355.609903],\n",
       "      [585.196646, 406.767818],\n",
       "      [550.259533, 413.006587]],\n",
       "     'types': 'LLCCCLLLLLLL',\n",
       "     'closed': True}],\n",
       "   [{'vertices': [[413.077316, 403.848073],\n",
       "      [0, 509.80061],\n",
       "      [0, 602.665202],\n",
       "      [139.750483, 580.435634],\n",
       "      [190.906369, 573.96686],\n",
       "      [310.690757, 576.462368],\n",
       "      [525.304452, 419.245358],\n",
       "      [413.077316, 403.848073]],\n",
       "     'types': 'LLLCCCLL',\n",
       "     'closed': True}]]},\n",
       " {'id': 'b1c81faa-3df17267.jpg',\n",
       "  'source': 'bdd',\n",
       "  'path': '/Users/duke/Desktop/AIE自动驾驶组-可行驶区域检测-项目答辩/Model_DrivableDetection/datasets/bdd/val/b1c81faa-3df17267.jpg',\n",
       "  'width': 1280,\n",
       "  'height': 720,\n",
       "  'polygons': [[{'vertices': [[552.663126, 539.168333],\n",
       "      [912.108681, 320.50562],\n",
       "      [891.141024, 314.514861],\n",
       "      [0, 500.228398],\n",
       "      [0, 561.633679],\n",
       "      [169.254534, 536.172952],\n",
       "      [365.451899, 536.172952],\n",
       "      [552.663126, 539.168333]],\n",
       "     'types': 'LLLLLCCC',\n",
       "     'closed': True}],\n",
       "   [{'vertices': [[576.626163, 545.159092],\n",
       "      [948.053237, 317.51024],\n",
       "      [1012.453899, 323.500999],\n",
       "      [1280.52479, 546.656782],\n",
       "      [1276.047306, 720.3888],\n",
       "      [1226.623543, 720.3888],\n",
       "      [1022.937728, 605.066685],\n",
       "      [859.689538, 581.103648],\n",
       "      [576.626163, 545.159092]],\n",
       "     'types': 'LLLLLLCCC',\n",
       "     'closed': True}]]},\n",
       " {'id': 'b1ceb32e-3f481b43.jpg',\n",
       "  'source': 'bdd',\n",
       "  'path': '/Users/duke/Desktop/AIE自动驾驶组-可行驶区域检测-项目答辩/Model_DrivableDetection/datasets/bdd/val/b1ceb32e-3f481b43.jpg',\n",
       "  'width': 1280,\n",
       "  'height': 720,\n",
       "  'polygons': [[{'vertices': [[594.271508, 552.795841],\n",
       "      [855.31399, 546.653666],\n",
       "      [956.659895, 585.042267],\n",
       "      [1145.531807, 678.710451],\n",
       "      [1193.13367, 664.890554],\n",
       "      [1245.342167, 669.497186],\n",
       "      [1280.6437, 675.639361],\n",
       "      [1280.6437, 586.57781],\n",
       "      [968.944247, 451.449938],\n",
       "      [552.81182, 400.776985],\n",
       "      [730.934925, 368.530561],\n",
       "      [729.39938, 360.852842],\n",
       "      [187.352346, 353.17512],\n",
       "      [644.944461, 466.805377],\n",
       "      [594.271508, 552.795841]],\n",
       "     'types': 'LCCCCCCLCCCLCCC',\n",
       "     'closed': True}]]},\n",
       " {'id': 'b1cac6a7-04e33135.jpg',\n",
       "  'source': 'bdd',\n",
       "  'path': '/Users/duke/Desktop/AIE自动驾驶组-可行驶区域检测-项目答辩/Model_DrivableDetection/datasets/bdd/val/b1cac6a7-04e33135.jpg',\n",
       "  'width': 1280,\n",
       "  'height': 720,\n",
       "  'polygons': [[{'vertices': [[369.335197, 515.32242],\n",
       "      [249.550809, 688.760232],\n",
       "      [577.710122, 636.354562],\n",
       "      [962.018367, 648.832102],\n",
       "      [1280.195648, 691.25574],\n",
       "      [1280.195648, 606.408465],\n",
       "      [1236.524256, 554.002795],\n",
       "      [940.806548, 506.588141],\n",
       "      [758.634458, 517.817928],\n",
       "      [747.404672, 611.399481],\n",
       "      [489.119585, 611.399481],\n",
       "      [479.137552, 515.32242],\n",
       "      [369.335197, 515.32242]],\n",
       "     'types': 'LLCCCLLLLLLLL',\n",
       "     'closed': True}]]},\n",
       " {'id': 'b1ca8418-84a133a0.jpg',\n",
       "  'source': 'bdd',\n",
       "  'path': '/Users/duke/Desktop/AIE自动驾驶组-可行驶区域检测-项目答辩/Model_DrivableDetection/datasets/bdd/val/b1ca8418-84a133a0.jpg',\n",
       "  'width': 1280,\n",
       "  'height': 720,\n",
       "  'polygons': [[{'vertices': [[1.551523, 307.620641],\n",
       "      [0, 590.160738],\n",
       "      [115.181779, 565.592034],\n",
       "      [214.99214, 565.592034],\n",
       "      [299.44706, 574.805298],\n",
       "      [508.281044, 539.487786],\n",
       "      [695.617413, 544.094418],\n",
       "      [899.844766, 556.37877],\n",
       "      [1061.076886, 547.165506],\n",
       "      [959.730982, 447.355145],\n",
       "      [987.370774, 378.255665],\n",
       "      [1143.996262, 344.473697],\n",
       "      [1116.35647, 299.942921],\n",
       "      [706.366221, 299.942921],\n",
       "      [695.617413, 421.250897],\n",
       "      [442.252652, 431.999705],\n",
       "      [420.755036, 299.942921],\n",
       "      [1.551523, 307.620641]],\n",
       "     'types': 'LLCCCCCCLCCCLLLLLL',\n",
       "     'closed': True}]]},\n",
       " {'id': 'b1ceb32e-813f84b2.jpg',\n",
       "  'source': 'bdd',\n",
       "  'path': '/Users/duke/Desktop/AIE自动驾驶组-可行驶区域检测-项目答辩/Model_DrivableDetection/datasets/bdd/val/b1ceb32e-813f84b2.jpg',\n",
       "  'width': 1280,\n",
       "  'height': 720,\n",
       "  'polygons': [[{'vertices': [[528.243117, 310.179889],\n",
       "      [394.650789, 331.677505],\n",
       "      [268.73618, 377.743825],\n",
       "      [152.034835, 416.132425],\n",
       "      [0, 426.881233],\n",
       "      [0, 566.615738],\n",
       "      [620.375757, 529.762682],\n",
       "      [809.247669, 525.15605],\n",
       "      [1280.6437, 700.208065],\n",
       "      [1280.6437, 654.141746],\n",
       "      [1185.455951, 654.141746],\n",
       "      [1107.143206, 552.795842],\n",
       "      [1280.6437, 551.260298],\n",
       "      [1280.6437, 390.028177],\n",
       "      [1205.418023, 385.421545],\n",
       "      [1200.811391, 439.165584],\n",
       "      [769.323525, 414.596881],\n",
       "      [651.086637, 316.322065],\n",
       "      [528.243117, 310.179889]],\n",
       "     'types': 'LLCCCLCCCLCCCLLLLLL',\n",
       "     'closed': True}]]},\n",
       " {'id': 'b1cd1e94-26dd524f.jpg',\n",
       "  'source': 'bdd',\n",
       "  'path': '/Users/duke/Desktop/AIE自动驾驶组-可行驶区域检测-项目答辩/Model_DrivableDetection/datasets/bdd/val/b1cd1e94-26dd524f.jpg',\n",
       "  'width': 1280,\n",
       "  'height': 720,\n",
       "  'polygons': [[{'vertices': [[957.027351, 718.706329],\n",
       "      [1280.195648, 719.954083],\n",
       "      [1280.195648, 660.061889],\n",
       "      [1139.199441, 597.674187],\n",
       "      [990.716711, 549.011779],\n",
       "      [844.729486, 492.862847],\n",
       "      [576.462368, 490.367339],\n",
       "      [401.776803, 692.503494],\n",
       "      [602.665202, 686.264723],\n",
       "      [794.819325, 688.760232],\n",
       "      [957.027351, 718.706329]],\n",
       "     'types': 'LLLCCCLLCCC',\n",
       "     'closed': True}],\n",
       "   [{'vertices': [[380.564983, 691.25574],\n",
       "      [596.426431, 449.191455],\n",
       "      [495.358355, 446.695947],\n",
       "      [0, 591.435416],\n",
       "      [0, 696.246756],\n",
       "      [118.536634, 680.025954],\n",
       "      [274.50589, 671.291675],\n",
       "      [380.564983, 691.25574]],\n",
       "     'types': 'LLLLLCCC',\n",
       "     'closed': True}]]}]"
      ]
     },
     "execution_count": 20,
     "metadata": {},
     "output_type": "execute_result"
    }
   ],
   "source": [
    "for image in dataset.image_ids:\n",
    "    print(image)\n",
    "    \n",
    "    \n",
    "print('\\n')\n",
    "(dataset.image_info)\n",
    "\n",
    "\n"
   ]
  },
  {
   "cell_type": "code",
   "execution_count": 21,
   "metadata": {},
   "outputs": [
    {
     "name": "stdout",
     "output_type": "stream",
     "text": [
      "image ID: bdd.b1ca2e5d-84cf9134.jpg (0) /Users/duke/Desktop/AIE自动驾驶组-可行驶区域检测-项目答辩/Model_DrivableDetection/datasets/bdd/val/b1ca2e5d-84cf9134.jpg\n",
      "Processing 1 images\n",
      "image                    shape: (256, 256, 3)         min:    0.00000  max:  255.00000  uint8\n",
      "molded_images            shape: (1, 256, 256, 3)      min: -123.70000  max:  151.10000  float64\n",
      "image_metas              shape: (1, 14)               min:    0.00000  max:  256.00000  int64\n",
      "anchors                  shape: (1, 16368, 4)         min:   -1.41976  max:    2.16878  float32\n",
      "gt_class_id              shape: (1,)                  min:    1.00000  max:    1.00000  int32\n",
      "gt_bbox                  shape: (1, 4)                min:  129.00000  max:  255.00000  int32\n",
      "gt_mask                  shape: (256, 256, 1)         min:    0.00000  max:    1.00000  bool\n"
     ]
    },
    {
     "data": {
      "image/png": "[encoded data removed]",
      "text/plain": [
       "<Figure size 1152x1152 with 1 Axes>"
      ]
     },
     "metadata": {
      "needs_background": "light"
     },
     "output_type": "display_data"
    }
   ],
   "source": [
    "count=0 #Set this to number of images that you want to visualize \n",
    "for image_id in dataset.image_ids:    \n",
    "    if (count>0):\n",
    "        break\n",
    "    #image_id = random.choice(dataset.image_ids)\n",
    "    image, image_meta, gt_class_id, gt_bbox, gt_mask =\\\n",
    "        modellib.load_image_gt(dataset, config, image_id, use_mini_mask=False)\n",
    "    info = dataset.image_info[image_id]\n",
    "    print(\"image ID: {}.{} ({}) {}\".format(info[\"source\"], info[\"id\"], image_id, \n",
    "                                       dataset.image_reference(image_id)))\n",
    "\n",
    "    # Run object detection\n",
    "    results = model.detect([image], verbose=1)\n",
    "\n",
    "    # Display results\n",
    "    ax = get_ax(1)\n",
    "    r = results[0]\n",
    "    visualize.display_instances(image, r['rois'], r['masks'], r['class_ids'], \n",
    "                            dataset.class_names, r['scores'], ax=ax,\n",
    "                            title=\"Predictions\")\n",
    "    log(\"gt_class_id\", gt_class_id)\n",
    "    log(\"gt_bbox\", gt_bbox)\n",
    "    log(\"gt_mask\", gt_mask)\n",
    "    count=count+1\n",
    "   "
   ]
  },
  {
   "cell_type": "code",
   "execution_count": 22,
   "metadata": {},
   "outputs": [
    {
     "data": {
      "text/plain": [
       "array([[133, 129, 154, 255]], dtype=int32)"
      ]
     },
     "execution_count": 22,
     "metadata": {},
     "output_type": "execute_result"
    }
   ],
   "source": [
    "gt_bbox"
   ]
  },
  {
   "cell_type": "markdown",
   "metadata": {},
   "source": [
    "## IOU Metric Calculation "
   ]
  },
  {
   "cell_type": "code",
   "execution_count": 23,
   "metadata": {},
   "outputs": [
    {
     "name": "stdout",
     "output_type": "stream",
     "text": [
      "Total number of images=  11\n",
      "images with no drivable area in ground truth and detection=  0\n",
      "images with drivable area=  11\n",
      "Average IoU for  11 images with drivable area =  0.6706060101638142\n",
      "images with no generated mask or ground truth mask =  0\n",
      "images with IoU >0.9  []\n"
     ]
    }
   ],
   "source": [
    "#We calculate the IoU metric for each image \n",
    "#We calculate average IoU metric over the enitre validation dataset\n",
    "count=0 #Counts the total number of images\n",
    "count_wMask=0\n",
    "img_nullMask=[]\n",
    "img_highIoU=[]\n",
    "iou=[]\n",
    "for image_id in dataset.image_ids:\n",
    "    if (count>=500):\n",
    "        break\n",
    "    count=count+1\n",
    "    #image_id = random.choice(dataset.image_ids)\n",
    "    image, image_meta, gt_class_id, gt_bbox, gt_mask =\\\n",
    "        modellib.load_image_gt(dataset, config, image_id, use_mini_mask=False)\n",
    "    info = dataset.image_info[image_id]\n",
    "\n",
    "    # Run object detection\n",
    "    results = model.detect([image], verbose=0)\n",
    "    r = results[0]\n",
    "    r['masks']=np.sum(r['masks'],axis=2)\n",
    "    gt_mask=np.sum(gt_mask,axis=2)\n",
    "    intersection=np.logical_and(r['masks'],gt_mask)\n",
    "    union=np.logical_or(r['masks'],gt_mask)\n",
    "    if np.sum(union)!=0:\n",
    "        iou_score=np.sum(intersection) / np.sum(union)\n",
    "        iou.append(iou_score)\n",
    "        count_wMask=count_wMask+1\n",
    "        if iou_score==0:\n",
    "            img_nullMask.append(image_id)\n",
    "        if iou_score>0.9:\n",
    "            img_highIoU.append(image_id)\n",
    "        if count%1000==0: #Print IoU for every 1000th image to track progress \n",
    "            print (\"Image number \",count)\n",
    "            print (\"Filename: \",info[\"id\"],\" IoU = \",iou_score)\n",
    "    #else:                               #***enable to print images with no gt or detected mask \n",
    "    #    print (count,np.sum(r['masks']),np.sum(gt_mask))\n",
    "print ('Total number of images= ',count)\n",
    "print ('images with no drivable area in ground truth and detection= ',count-count_wMask)\n",
    "print ('images with drivable area= ',count_wMask)\n",
    "print ('Average IoU for ',count_wMask,'images with drivable area = ',sum(iou)/(count_wMask))\n",
    "print ('images with no generated mask or ground truth mask = ',len(img_nullMask))\n",
    "print ('images with IoU >0.9 ',img_highIoU)"
   ]
  },
  {
   "cell_type": "code",
   "execution_count": 24,
   "metadata": {},
   "outputs": [
    {
     "data": {
      "image/png": "[encoded data removed]",
      "text/plain": [
       "<Figure size 432x288 with 1 Axes>"
      ]
     },
     "metadata": {
      "needs_background": "light"
     },
     "output_type": "display_data"
    }
   ],
   "source": [
    "#Plot histogram of IoU metric of validation data images \n",
    "import numpy as np\n",
    "import random\n",
    "from matplotlib import pyplot as plt\n",
    "\n",
    "data = np.asarray(iou) \n",
    "\n",
    "# fixed bin size\n",
    "bins = np.arange(0, 1, .025) # fixed bin size\n",
    "plt.rc('xtick',labelsize=18)\n",
    "plt.rc('ytick',labelsize=18)\n",
    "plt.xlim(0, 1)\n",
    "plt.grid(axis='both')\n",
    "plt.hist(data, bins=bins, alpha=0.5, color='darkgreen')\n",
    "#plt.title('Histogram of IoU')\n",
    "plt.xlabel('IoU (bin size = .025)',fontsize=18)\n",
    "plt.ylabel('Image Count',fontsize=18)\n",
    "\n",
    "\n",
    "plt.show()"
   ]
  },
  {
   "cell_type": "code",
   "execution_count": 25,
   "metadata": {},
   "outputs": [
    {
     "name": "stdout",
     "output_type": "stream",
     "text": [
      "[]\n"
     ]
    }
   ],
   "source": [
    "print(img_highIoU)"
   ]
  },
  {
   "cell_type": "code",
   "execution_count": 26,
   "metadata": {
    "scrolled": true
   },
   "outputs": [
    {
     "ename": "IndexError",
     "evalue": "Cannot choose from an empty sequence",
     "output_type": "error",
     "traceback": [
      "\u001b[0;31m---------------------------------------------------------------------------\u001b[0m",
      "\u001b[0;31mIndexError\u001b[0m                                Traceback (most recent call last)",
      "\u001b[0;32m<ipython-input-26-7e2f99e6cd53>\u001b[0m in \u001b[0;36m<module>\u001b[0;34m\u001b[0m\n\u001b[1;32m      3\u001b[0m \u001b[0;31m#Run to display the segmentation result on it.\u001b[0m\u001b[0;34m\u001b[0m\u001b[0;34m\u001b[0m\u001b[0;34m\u001b[0m\u001b[0m\n\u001b[1;32m      4\u001b[0m \u001b[0mimg\u001b[0m\u001b[0;34m=\u001b[0m\u001b[0mimg_highIoU\u001b[0m\u001b[0;34m\u001b[0m\u001b[0;34m\u001b[0m\u001b[0m\n\u001b[0;32m----> 5\u001b[0;31m \u001b[0mimage_id\u001b[0m \u001b[0;34m=\u001b[0m \u001b[0mrandom\u001b[0m\u001b[0;34m.\u001b[0m\u001b[0mchoice\u001b[0m\u001b[0;34m(\u001b[0m\u001b[0mimg\u001b[0m\u001b[0;34m)\u001b[0m\u001b[0;34m\u001b[0m\u001b[0;34m\u001b[0m\u001b[0m\n\u001b[0m\u001b[1;32m      6\u001b[0m \u001b[0mimage\u001b[0m\u001b[0;34m,\u001b[0m \u001b[0mimage_meta\u001b[0m\u001b[0;34m,\u001b[0m \u001b[0mgt_class_id\u001b[0m\u001b[0;34m,\u001b[0m \u001b[0mgt_bbox\u001b[0m\u001b[0;34m,\u001b[0m \u001b[0mgt_mask\u001b[0m \u001b[0;34m=\u001b[0m\u001b[0;31m\\\u001b[0m\u001b[0;34m\u001b[0m\u001b[0;34m\u001b[0m\u001b[0m\n\u001b[1;32m      7\u001b[0m         \u001b[0mmodellib\u001b[0m\u001b[0;34m.\u001b[0m\u001b[0mload_image_gt\u001b[0m\u001b[0;34m(\u001b[0m\u001b[0mdataset\u001b[0m\u001b[0;34m,\u001b[0m \u001b[0mconfig\u001b[0m\u001b[0;34m,\u001b[0m \u001b[0mimage_id\u001b[0m\u001b[0;34m,\u001b[0m \u001b[0muse_mini_mask\u001b[0m\u001b[0;34m=\u001b[0m\u001b[0;32mFalse\u001b[0m\u001b[0;34m)\u001b[0m\u001b[0;34m\u001b[0m\u001b[0;34m\u001b[0m\u001b[0m\n",
      "\u001b[0;32m~/anaconda3/lib/python3.7/random.py\u001b[0m in \u001b[0;36mchoice\u001b[0;34m(self, seq)\u001b[0m\n\u001b[1;32m    259\u001b[0m             \u001b[0mi\u001b[0m \u001b[0;34m=\u001b[0m \u001b[0mself\u001b[0m\u001b[0;34m.\u001b[0m\u001b[0m_randbelow\u001b[0m\u001b[0;34m(\u001b[0m\u001b[0mlen\u001b[0m\u001b[0;34m(\u001b[0m\u001b[0mseq\u001b[0m\u001b[0;34m)\u001b[0m\u001b[0;34m)\u001b[0m\u001b[0;34m\u001b[0m\u001b[0;34m\u001b[0m\u001b[0m\n\u001b[1;32m    260\u001b[0m         \u001b[0;32mexcept\u001b[0m \u001b[0mValueError\u001b[0m\u001b[0;34m:\u001b[0m\u001b[0;34m\u001b[0m\u001b[0;34m\u001b[0m\u001b[0m\n\u001b[0;32m--> 261\u001b[0;31m             \u001b[0;32mraise\u001b[0m \u001b[0mIndexError\u001b[0m\u001b[0;34m(\u001b[0m\u001b[0;34m'Cannot choose from an empty sequence'\u001b[0m\u001b[0;34m)\u001b[0m \u001b[0;32mfrom\u001b[0m \u001b[0;32mNone\u001b[0m\u001b[0;34m\u001b[0m\u001b[0;34m\u001b[0m\u001b[0m\n\u001b[0m\u001b[1;32m    262\u001b[0m         \u001b[0;32mreturn\u001b[0m \u001b[0mseq\u001b[0m\u001b[0;34m[\u001b[0m\u001b[0mi\u001b[0m\u001b[0;34m]\u001b[0m\u001b[0;34m\u001b[0m\u001b[0;34m\u001b[0m\u001b[0m\n\u001b[1;32m    263\u001b[0m \u001b[0;34m\u001b[0m\u001b[0m\n",
      "\u001b[0;31mIndexError\u001b[0m: Cannot choose from an empty sequence"
     ]
    }
   ],
   "source": [
    "#To Choose a random image from the list of images giving IoU=0, set img=img_nullMask) \n",
    "#To Choose a random image from the list of images giving IoU>0.9, set img=img_highIoU)\n",
    "#Run to display the segmentation result on it.\n",
    "img=img_highIoU\n",
    "image_id = random.choice(img)\n",
    "image, image_meta, gt_class_id, gt_bbox, gt_mask =\\\n",
    "        modellib.load_image_gt(dataset, config, image_id, use_mini_mask=False)\n",
    "info = dataset.image_info[image_id]\n",
    "print(\"image ID: {}.{} ({}) {}\".format(info[\"source\"], info[\"id\"], image_id, \n",
    "                                      dataset.image_reference(image_id)))\n",
    "# Run object detection\n",
    "results = model.detect([image], verbose=1)\n",
    "\n",
    "# Display results\n",
    "ax = get_ax(1)\n",
    "r = results[0]\n",
    "visualize.display_instances(image, r['rois'], r['masks'], r['class_ids'], \n",
    "                            dataset.class_names, r['scores'], ax=ax,\n",
    "                            title=\"Predictions\")\n",
    "log(\"gt_class_id\", gt_class_id)\n",
    "log(\"gt_bbox\", gt_bbox)\n",
    "log(\"gt_mask\", gt_mask)"
   ]
  },
  {
   "cell_type": "code",
   "execution_count": null,
   "metadata": {},
   "outputs": [],
   "source": [
    "print(img)"
   ]
  },
  {
   "cell_type": "code",
   "execution_count": null,
   "metadata": {},
   "outputs": [],
   "source": []
  }
 ],
 "metadata": {
  "kernelspec": {
   "display_name": "Python 3",
   "language": "python",
   "name": "python3"
  },
  "language_info": {
   "codemirror_mode": {
    "name": "ipython",
    "version": 3
   },
   "file_extension": ".py",
   "mimetype": "text/x-python",
   "name": "python",
   "nbconvert_exporter": "python",
   "pygments_lexer": "ipython3",
   "version": "3.7.3"
  }
 },
 "nbformat": 4,
 "nbformat_minor": 2
}
